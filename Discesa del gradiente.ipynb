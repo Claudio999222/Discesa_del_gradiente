{
 "cells": [
  {
   "cell_type": "code",
   "execution_count": 1,
   "id": "d45bca09",
   "metadata": {},
   "outputs": [],
   "source": [
    "import pandas as pd\n",
    "import matplotlib.pyplot as plt "
   ]
  },
  {
   "cell_type": "markdown",
   "id": "9214b9f0",
   "metadata": {},
   "source": [
    "## Importazione DataSet"
   ]
  },
  {
   "cell_type": "code",
   "execution_count": 2,
   "id": "a96cb3cb",
   "metadata": {},
   "outputs": [
    {
     "data": {
      "text/html": [
       "<div>\n",
       "<style scoped>\n",
       "    .dataframe tbody tr th:only-of-type {\n",
       "        vertical-align: middle;\n",
       "    }\n",
       "\n",
       "    .dataframe tbody tr th {\n",
       "        vertical-align: top;\n",
       "    }\n",
       "\n",
       "    .dataframe thead th {\n",
       "        text-align: right;\n",
       "    }\n",
       "</style>\n",
       "<table border=\"1\" class=\"dataframe\">\n",
       "  <thead>\n",
       "    <tr style=\"text-align: right;\">\n",
       "      <th></th>\n",
       "      <th>1.1</th>\n",
       "      <th>1</th>\n",
       "    </tr>\n",
       "  </thead>\n",
       "  <tbody>\n",
       "    <tr>\n",
       "      <th>0</th>\n",
       "      <td>0.9</td>\n",
       "      <td>1.0</td>\n",
       "    </tr>\n",
       "    <tr>\n",
       "      <th>1</th>\n",
       "      <td>1.9</td>\n",
       "      <td>2.1</td>\n",
       "    </tr>\n",
       "    <tr>\n",
       "      <th>2</th>\n",
       "      <td>2.1</td>\n",
       "      <td>1.9</td>\n",
       "    </tr>\n",
       "    <tr>\n",
       "      <th>3</th>\n",
       "      <td>2.9</td>\n",
       "      <td>3.1</td>\n",
       "    </tr>\n",
       "    <tr>\n",
       "      <th>4</th>\n",
       "      <td>3.1</td>\n",
       "      <td>2.9</td>\n",
       "    </tr>\n",
       "  </tbody>\n",
       "</table>\n",
       "</div>"
      ],
      "text/plain": [
       "   1.1    1\n",
       "0  0.9  1.0\n",
       "1  1.9  2.1\n",
       "2  2.1  1.9\n",
       "3  2.9  3.1\n",
       "4  3.1  2.9"
      ]
     },
     "execution_count": 2,
     "metadata": {},
     "output_type": "execute_result"
    }
   ],
   "source": [
    "data = pd.read_csv(r'C:\\Users\\Claud\\OneDrive\\Desktop\\project-a\\MASTER CLASS MACHINE LEARNING\\Regressione lineare\\data\\data_01.csv')\n",
    "data.head()"
   ]
  },
  {
   "cell_type": "markdown",
   "id": "8d1c7730",
   "metadata": {},
   "source": [
    "## Definizione X e Y (Tutte le righe della prima Colonna e tutte le righe della seconda colonna)"
   ]
  },
  {
   "cell_type": "code",
   "execution_count": 3,
   "id": "ae85e6fc",
   "metadata": {},
   "outputs": [
    {
     "data": {
      "image/png": "[encoded data removed]",
      "text/plain": [
       "<Figure size 640x480 with 1 Axes>"
      ]
     },
     "metadata": {},
     "output_type": "display_data"
    }
   ],
   "source": [
    "X = data.iloc[:,0]\n",
    "Y =data.iloc[:,1]\n",
    "plt.scatter(X, Y)\n",
    "plt.show()"
   ]
  },
  {
   "cell_type": "markdown",
   "id": "3ffb5480",
   "metadata": {},
   "source": [
    "## Definizione di:\n",
    "\n",
    "*   **Theta0 = c** \n",
    "*   **Theta1 = m** \n",
    "*   **Learning Rate = L** \n",
    "*   **Epoche di addestramento = epochs** \n",
    "*   **Numero Elementi DataSet = n**"
   ]
  },
  {
   "cell_type": "code",
   "execution_count": 10,
   "id": "a9e377e7",
   "metadata": {},
   "outputs": [],
   "source": [
    "m = 0  \n",
    "c = 0 \n",
    "\n",
    "L = 0.001 \n",
    "\n",
    "epochs = 1000 \n",
    "\n",
    "n = len(X) "
   ]
  },
  {
   "cell_type": "markdown",
   "id": "f8a8aba3",
   "metadata": {},
   "source": [
    "## Qui stabiliamo:\n",
    "\n",
    "## La formula della regressione lineare\n",
    "\n",
    "*    **m** _**X + c    =  Teta1**_ **\\*X + Teta0**\n",
    "\n",
    "## La funzione di costo (Errore medio quadratico)\n",
    "\n",
    "*   **MSE = (1/n) \\* Σ(Y - Y\\_pred)^2**"
   ]
  },
  {
   "cell_type": "code",
   "execution_count": 11,
   "id": "a4b31596",
   "metadata": {},
   "outputs": [
    {
     "name": "stdout",
     "output_type": "stream",
     "text": [
      "10.857692307692309\n"
     ]
    }
   ],
   "source": [
    "Y_pred = m * X + c  \n",
    "MSE = (1/n) * sum((Y - Y_pred)**2)\n",
    "print (MSE)"
   ]
  },
  {
   "cell_type": "markdown",
   "id": "94836462",
   "metadata": {},
   "source": [
    "## Qui stabiliamo:\n",
    "\n",
    "*   **Derivata Parziale di m = (Funzione di costo / n ) \\* Σ(X \\* (Y - (Theta1 \\* X + theta0))\\*\\***\n",
    "*   **Derivata Parziale di c = (Funzione di costo / n ) \\* Σ(Teta1 \\* X + theta0)\\*\\***\n",
    "\n",
    "## Correzione dei Theta, m e c con le derivate\n",
    "\n",
    "*   **m - ( Learning Rate \\* Derivata di m)**\n",
    "*   **c - ( Learning Rate \\* Derivata di c)**"
   ]
  },
  {
   "cell_type": "code",
   "execution_count": 12,
   "id": "400922f4",
   "metadata": {},
   "outputs": [
    {
     "name": "stdout",
     "output_type": "stream",
     "text": [
      "0.8926043871849315 0.41056971379281454\n"
     ]
    }
   ],
   "source": [
    "# Discesa del gradiente \n",
    "\n",
    "for i in range (epochs):\n",
    "    Y_pred = m * X + c\n",
    "    D_m = (-2 / n ) * sum(X * (Y - Y_pred)) \n",
    "    D_c = (-2 / n ) * sum(Y - Y_pred)  \n",
    "    \n",
    "    m -= L * D_m \n",
    "    c -= L * D_c   \n",
    "    \n",
    "print(m, c)"
   ]
  },
  {
   "cell_type": "markdown",
   "id": "0cabb9e8",
   "metadata": {},
   "source": [
    "## Predizione\n",
    "\n",
    "*   **min(X) a max(X) , Min(Theta1\\*X + Theta0) a Max(Theta1\\*X + Theta0)**"
   ]
  },
  {
   "cell_type": "code",
   "execution_count": 13,
   "id": "9a4a2999",
   "metadata": {},
   "outputs": [
    {
     "data": {
      "text/plain": [
       "<function matplotlib.pyplot.show(close=None, block=None)>"
      ]
     },
     "execution_count": 13,
     "metadata": {},
     "output_type": "execute_result"
    },
    {
     "data": {
      "image/png": "[encoded data removed]",
      "text/plain": [
       "<Figure size 640x480 with 1 Axes>"
      ]
     },
     "metadata": {},
     "output_type": "display_data"
    }
   ],
   "source": [
    "#Predizioni\n",
    "Y_pred = m * X + c \n",
    "plt.scatter(X, Y)\n",
    "plt.plot([min(X), max(X)], [min(Y_pred), max(Y_pred)], color = 'red')\n",
    "plt.show"
   ]
  },
  {
   "cell_type": "code",
   "execution_count": null,
   "id": "63f4b315",
   "metadata": {},
   "outputs": [],
   "source": []
  }
 ],
 "metadata": {
  "kernelspec": {
   "display_name": "Python 3 (ipykernel)",
   "language": "python",
   "name": "python3"
  },
  "language_info": {
   "codemirror_mode": {
    "name": "ipython",
    "version": 3
   },
   "file_extension": ".py",
   "mimetype": "text/x-python",
   "name": "python",
   "nbconvert_exporter": "python",
   "pygments_lexer": "ipython3",
   "version": "3.11.2"
  }
 },
 "nbformat": 4,
 "nbformat_minor": 5
}
